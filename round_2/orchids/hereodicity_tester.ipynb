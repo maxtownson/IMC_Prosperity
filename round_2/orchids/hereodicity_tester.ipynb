{
 "cells": [
  {
   "cell_type": "code",
   "execution_count": 6,
   "metadata": {},
   "outputs": [],
   "source": [
    "# Importing libraries\n",
    "import numpy as np\n",
    "import pandas as pd\n",
    "import statsmodels.formula.api as smf\n",
    "from statsmodels.compat import lzip\n",
    "import statsmodels.stats.api as sms\n"
   ]
  },
  {
   "cell_type": "code",
   "execution_count": 4,
   "metadata": {},
   "outputs": [
    {
     "data": {
      "text/html": [
       "<div>\n",
       "<style scoped>\n",
       "    .dataframe tbody tr th:only-of-type {\n",
       "        vertical-align: middle;\n",
       "    }\n",
       "\n",
       "    .dataframe tbody tr th {\n",
       "        vertical-align: top;\n",
       "    }\n",
       "\n",
       "    .dataframe thead th {\n",
       "        text-align: right;\n",
       "    }\n",
       "</style>\n",
       "<table border=\"1\" class=\"dataframe\">\n",
       "  <thead>\n",
       "    <tr style=\"text-align: right;\">\n",
       "      <th></th>\n",
       "      <th>SUNLIGHT</th>\n",
       "      <th>HUMIDITY</th>\n",
       "      <th>ORCHIDS</th>\n",
       "    </tr>\n",
       "  </thead>\n",
       "  <tbody>\n",
       "    <tr>\n",
       "      <th>0</th>\n",
       "      <td>2500.0000</td>\n",
       "      <td>79.00000</td>\n",
       "      <td>1200.00</td>\n",
       "    </tr>\n",
       "    <tr>\n",
       "      <th>1</th>\n",
       "      <td>2499.4197</td>\n",
       "      <td>79.00410</td>\n",
       "      <td>1201.75</td>\n",
       "    </tr>\n",
       "    <tr>\n",
       "      <th>2</th>\n",
       "      <td>2498.8457</td>\n",
       "      <td>79.00821</td>\n",
       "      <td>1201.75</td>\n",
       "    </tr>\n",
       "    <tr>\n",
       "      <th>3</th>\n",
       "      <td>2498.2780</td>\n",
       "      <td>79.01234</td>\n",
       "      <td>1201.75</td>\n",
       "    </tr>\n",
       "    <tr>\n",
       "      <th>4</th>\n",
       "      <td>2497.7166</td>\n",
       "      <td>79.01649</td>\n",
       "      <td>1201.75</td>\n",
       "    </tr>\n",
       "    <tr>\n",
       "      <th>...</th>\n",
       "      <td>...</td>\n",
       "      <td>...</td>\n",
       "      <td>...</td>\n",
       "    </tr>\n",
       "    <tr>\n",
       "      <th>29998</th>\n",
       "      <td>2299.9436</td>\n",
       "      <td>69.93549</td>\n",
       "      <td>1036.25</td>\n",
       "    </tr>\n",
       "    <tr>\n",
       "      <th>29999</th>\n",
       "      <td>2299.9556</td>\n",
       "      <td>69.95153</td>\n",
       "      <td>1036.25</td>\n",
       "    </tr>\n",
       "    <tr>\n",
       "      <th>30000</th>\n",
       "      <td>2299.9690</td>\n",
       "      <td>69.96762</td>\n",
       "      <td>1036.25</td>\n",
       "    </tr>\n",
       "    <tr>\n",
       "      <th>30001</th>\n",
       "      <td>2299.9840</td>\n",
       "      <td>69.98378</td>\n",
       "      <td>1034.25</td>\n",
       "    </tr>\n",
       "    <tr>\n",
       "      <th>30002</th>\n",
       "      <td>2300.0000</td>\n",
       "      <td>70.00000</td>\n",
       "      <td>1035.25</td>\n",
       "    </tr>\n",
       "  </tbody>\n",
       "</table>\n",
       "<p>30003 rows × 3 columns</p>\n",
       "</div>"
      ],
      "text/plain": [
       "        SUNLIGHT  HUMIDITY  ORCHIDS\n",
       "0      2500.0000  79.00000  1200.00\n",
       "1      2499.4197  79.00410  1201.75\n",
       "2      2498.8457  79.00821  1201.75\n",
       "3      2498.2780  79.01234  1201.75\n",
       "4      2497.7166  79.01649  1201.75\n",
       "...          ...       ...      ...\n",
       "29998  2299.9436  69.93549  1036.25\n",
       "29999  2299.9556  69.95153  1036.25\n",
       "30000  2299.9690  69.96762  1036.25\n",
       "30001  2299.9840  69.98378  1034.25\n",
       "30002  2300.0000  70.00000  1035.25\n",
       "\n",
       "[30003 rows x 3 columns]"
      ]
     },
     "execution_count": 4,
     "metadata": {},
     "output_type": "execute_result"
    }
   ],
   "source": [
    "new_df = pd.read_csv(\"orchid_data.csv\")\n",
    "updated_df = new_df[['SUNLIGHT', 'HUMIDITY','ORCHIDS']]\n",
    "updated_df"
   ]
  },
  {
   "cell_type": "code",
   "execution_count": 5,
   "metadata": {},
   "outputs": [
    {
     "name": "stdout",
     "output_type": "stream",
     "text": [
      "                            OLS Regression Results                            \n",
      "==============================================================================\n",
      "Dep. Variable:                ORCHIDS   R-squared:                       0.626\n",
      "Model:                            OLS   Adj. R-squared:                  0.626\n",
      "Method:                 Least Squares   F-statistic:                 2.514e+04\n",
      "Date:                Mon, 15 Apr 2024   Prob (F-statistic):               0.00\n",
      "Time:                        11:21:43   Log-Likelihood:            -1.6001e+05\n",
      "No. Observations:               30003   AIC:                         3.200e+05\n",
      "Df Residuals:                   30000   BIC:                         3.201e+05\n",
      "Df Model:                           2                                         \n",
      "Covariance Type:            nonrobust                                         \n",
      "==============================================================================\n",
      "                 coef    std err          t      P>|t|      [0.025      0.975]\n",
      "------------------------------------------------------------------------------\n",
      "Intercept    693.3201      2.593    267.428      0.000     688.239     698.402\n",
      "HUMIDITY       3.7792      0.039     95.706      0.000       3.702       3.857\n",
      "SUNLIGHT       0.0401      0.000     99.013      0.000       0.039       0.041\n",
      "==============================================================================\n",
      "Omnibus:                      784.303   Durbin-Watson:                   0.001\n",
      "Prob(Omnibus):                  0.000   Jarque-Bera (JB):              843.188\n",
      "Skew:                          -0.407   Prob(JB):                    8.02e-184\n",
      "Kurtosis:                       2.893   Cond. No.                     2.62e+04\n",
      "==============================================================================\n",
      "\n",
      "Notes:\n",
      "[1] Standard Errors assume that the covariance matrix of the errors is correctly specified.\n",
      "[2] The condition number is large, 2.62e+04. This might indicate that there are\n",
      "strong multicollinearity or other numerical problems.\n"
     ]
    }
   ],
   "source": [
    "fit = smf.ols('ORCHIDS ~ HUMIDITY+SUNLIGHT', data=updated_df).fit()\n",
    "print(fit.summary())\n"
   ]
  },
  {
   "cell_type": "code",
   "execution_count": 7,
   "metadata": {},
   "outputs": [
    {
     "data": {
      "text/plain": [
       "[('Lagrange multiplier statistic', 5268.990312380451),\n",
       " ('p-value', 0.0),\n",
       " ('f-value', 3195.3919192191124),\n",
       " ('f p-value', 0.0)]"
      ]
     },
     "execution_count": 7,
     "metadata": {},
     "output_type": "execute_result"
    }
   ],
   "source": [
    "names = ['Lagrange multiplier statistic', 'p-value',\n",
    "         'f-value', 'f p-value']\n",
    " \n",
    "# Get the test result\n",
    "test_result = sms.het_breuschpagan(fit.resid, fit.model.exog)\n",
    " \n",
    "lzip(names, test_result)"
   ]
  }
 ],
 "metadata": {
  "kernelspec": {
   "display_name": "base",
   "language": "python",
   "name": "python3"
  },
  "language_info": {
   "codemirror_mode": {
    "name": "ipython",
    "version": 3
   },
   "file_extension": ".py",
   "mimetype": "text/x-python",
   "name": "python",
   "nbconvert_exporter": "python",
   "pygments_lexer": "ipython3",
   "version": "3.10.9"
  }
 },
 "nbformat": 4,
 "nbformat_minor": 2
}
